{
 "cells": [
  {
   "cell_type": "code",
   "execution_count": 2,
   "metadata": {},
   "outputs": [],
   "source": [
    "import torch\n",
    "def Inverse_Derivatives_embedding(embedded_data, dt, m=2, patch_len=16, stride=16, pad_len=0, type='CI', pad_type='L0', B=32, T=96, C=7):\n",
    "    # input (BC, P, D)\n",
    "\n",
    "    # 剥离C\n",
    "    embedded_data = embedded_data.reshape(B, C, -1, (m + 1) * patch_len)\n",
    "\n",
    "    # 获取原始时间长度 T\n",
    "    total_patches = (T - patch_len) // stride + 1\n",
    "\n",
    "    # 初始化一个张量，用来存放还原的数据\n",
    "    recovered_data = torch.zeros((B, C, total_patches * stride + patch_len - stride, m + 1), device=embedded_data.device)\n",
    "\n",
    "    # 手动将 unfolded 数据恢复为原始形状\n",
    "    for i in range(total_patches):\n",
    "        start = i * stride\n",
    "        end = start + patch_len\n",
    "        recovered_data[:, :, start:end, :] += embedded_data[:, :, i, :].reshape(B, C, patch_len, m + 1)\n",
    "\n",
    "    # 根据pad_type移除填充\n",
    "    if pad_type == 'L0':\n",
    "        recovered_data = recovered_data[:, :, pad_len:]\n",
    "    elif pad_type == 'R0':\n",
    "        recovered_data = recovered_data[:, :, :-pad_len]\n",
    "    elif pad_type == 'L':\n",
    "        recovered_data = recovered_data[:, :, pad_len:]\n",
    "    elif pad_type == 'R':\n",
    "        recovered_data = recovered_data[:, :, :-pad_len]\n",
    "    else:\n",
    "        raise NotImplementedError\n",
    "\n",
    "    # 恢复原始数据，逐步通过导数反推\n",
    "    recovered_x = torch.zeros((B, T, C), device=embedded_data.device)\n",
    "    recovered_x[:, :, :] = recovered_data[:, :, :, 0]  # 初始化为原始数据的第0阶\n",
    "\n",
    "    for i in range(1, m + 1):\n",
    "        recovered_x[:, dt:, :] += recovered_data[:, :-dt, :, i] * dt\n",
    "\n",
    "    return recovered_x\n"
   ]
  },
  {
   "cell_type": "code",
   "execution_count": null,
   "metadata": {},
   "outputs": [],
   "source": [
    "x = torch.rand(224, 6, 64)\n",
    "y = Inverse_Derivatives_embedding"
   ]
  },
  {
   "cell_type": "code",
   "execution_count": null,
   "metadata": {},
   "outputs": [],
   "source": []
  }
 ],
 "metadata": {
  "kernelspec": {
   "display_name": "time",
   "language": "python",
   "name": "python3"
  },
  "language_info": {
   "codemirror_mode": {
    "name": "ipython",
    "version": 3
   },
   "file_extension": ".py",
   "mimetype": "text/x-python",
   "name": "python",
   "nbconvert_exporter": "python",
   "pygments_lexer": "ipython3",
   "version": "3.12.2"
  }
 },
 "nbformat": 4,
 "nbformat_minor": 2
}
